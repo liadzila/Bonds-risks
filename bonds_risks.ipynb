{
  "cells": [
    {
      "attachments": {},
      "cell_type": "markdown",
      "metadata": {
        "id": "uSRLc91UeH4c"
      },
      "source": [
        "# Task 1"
      ]
    },
    {
      "cell_type": "code",
      "execution_count": null,
      "metadata": {
        "colab": {
          "base_uri": "https://localhost:8080/",
          "height": 282
        },
        "id": "xGmFD5WOgkqw",
        "outputId": "60a9c943-8c91-40ed-9924-0802f2be5fcb"
      },
      "outputs": [
        {
          "data": {
            "text/plain": [
              "<matplotlib.legend.Legend at 0x7ff36f9d3950>"
            ]
          },
          "execution_count": 89,
          "metadata": {},
          "output_type": "execute_result"
        },
        {
          "data": {
            "image/png": "[encoded data removed]",
            "text/plain": [
              "<Figure size 432x288 with 1 Axes>"
            ]
          },
          "metadata": {
            "needs_background": "light"
          },
          "output_type": "display_data"
        }
      ],
      "source": [
        "from matplotlib.pyplot import plot, legend\n",
        "import numpy as np\n",
        "\n",
        "curve_tenors = np.array([1/12, 1/6, 0.25, 0.5, 1.0, 2.0, 3.0, 4.0, 5.0, 6.0, 7.0, 8.0, 9.0, 10.0, 15.0, 20.0, 30.0])\n",
        "curve_rates = np.array([-0.700, -0.750, -0.700, -0.580, -0.600, -0.375, -0.194, -0.120, -0.008, -0.004, 0.165, 0.225, 0.301, 0.355, 0.491, 0.489, 0.473])*1e-2\n",
        "\n",
        "plot(curve_tenors, curve_rates + 1e-3, label = 'r + dr')\n",
        "plot(curve_tenors, curve_rates, label = 'r')\n",
        "plot(curve_tenors, curve_rates - 1e-3, label = 'r - dr')\n",
        "legend()"
      ]
    },
    {
      "cell_type": "code",
      "execution_count": null,
      "metadata": {
        "colab": {
          "base_uri": "https://localhost:8080/",
          "height": 36
        },
        "id": "NSeR7eHreH4n",
        "outputId": "81d951ea-6750-4323-bf59-65df35e285ca"
      },
      "outputs": [
        {
          "data": {
            "application/vnd.google.colaboratory.intrinsic+json": {
              "type": "string"
            },
            "text/plain": [
              "'CH0344958688'"
            ]
          },
          "execution_count": 90,
          "metadata": {},
          "output_type": "execute_result"
        }
      ],
      "source": [
        "def getBond(email):\n",
        "    import hashlib\n",
        "    h = int(hashlib.sha1(email.encode('utf-8')).hexdigest(), 16)\n",
        "    bonds = ['CH0184249990', 'CH0344958688', 'CH0344958498']\n",
        "    return bonds[h % len(bonds)]\n",
        "getBond('omyglob@gmail.com')"
      ]
    },
    {
      "cell_type": "markdown",
      "metadata": {
        "id": "Euz6OaB--HkN"
      },
      "source": [
        "Interest rate: 0.50% \\\\\n",
        "Maturity: 28.06.2045 \\\\\n",
        "Amount: CHF 222.550 million (0 million own tranche) \\\\\n",
        "Issue price: 111.90% \\\\\n",
        "Yield p.a.: -0.001% \\\\\n",
        "Total bids: CHF 258.550 million \\\\\n",
        "Allotment in last price category: 100% \\\\\n",
        "Offers without price details: CHF 106.850 million \\\\\n",
        "Settlement: 22.09.2021 \\\\\n",
        "ISIN no. (until settlement): CH0557778385 \\\\\n",
        "Fungible with ISIN no.: CH0344958498 \\\\\n",
        "\n"
      ]
    },
    {
      "cell_type": "code",
      "execution_count": null,
      "metadata": {
        "colab": {
          "base_uri": "https://localhost:8080/"
        },
        "id": "cI33VWbmeH4r",
        "outputId": "37b7a8c6-3a47-4dc4-f3b5-6cf0ffefe58e"
      },
      "outputs": [
        {
          "data": {
            "text/plain": [
              "array([-0.57302573,  0.39426036,  0.42761533,  0.45494013,  0.47610995,\n",
              "        0.49966239,  0.50285691,  0.50152022,  0.49658902,  0.47968983,\n",
              "        0.46959521,  0.45965282])"
            ]
          },
          "execution_count": 91,
          "metadata": {},
          "output_type": "execute_result"
        }
      ],
      "source": [
        "import numpy as np\n",
        "import scipy.interpolate\n",
        "\n",
        "f = scipy.interpolate.interp1d(curve_tenors, curve_rates, kind = 'cubic')\n",
        "f(np.array([9/12, 11, 12, 13, 14, 16, 17, 18, 19, 21, 22, 23]))*1e+2"
      ]
    },
    {
      "cell_type": "code",
      "execution_count": null,
      "metadata": {
        "id": "7t1eQ97UfHO6"
      },
      "outputs": [],
      "source": [
        "ytm = np.array([-0.573026, -0.600, -0.375, -0.194, -0.120, -0.008, -0.004, 0.165, 0.225, 0.301, 0.355, 0.39426, 0.427615, 0.45494, 0.47611, 0.491,  0.499662,  0.502857,  0.50152 ,  0.496589, 0.489, 0.47969,  0.469595,  0.459653])*1e-2"
      ]
    },
    {
      "cell_type": "code",
      "execution_count": null,
      "metadata": {
        "colab": {
          "base_uri": "https://localhost:8080/"
        },
        "id": "yMdsq2Ejcypt",
        "outputId": "69b7aa7c-7c14-4047-a5a8-7c1bac4631f6"
      },
      "outputs": [
        {
          "name": "stdout",
          "output_type": "stream",
          "text": [
            "DV01 =  0.22578917958084332\n"
          ]
        }
      ],
      "source": [
        "days = np.array([276, 360, 360, 360, 360, 360, 360, 360, 360, 360, 360, 360, 360, 360, 360, 360, 360, 360, 360, 360, 360, 360, 360, 360])\n",
        "payments = np.array([0.5/365*276, 0.5, 0.5, 0.5, 0.5, 0.5, 0.5, 0.5, 0.5, 0.5, 0.5, 0.5, 0.5, 0.5, 0.5, 0.5, 0.5, 0.5, 0.5, 0.5, 0.5, 0.5, 0.5, 100.5])\n",
        "\n",
        "def pv_ytm(days, payments, ytm):\n",
        "    days = np.cumsum(days) / 360\n",
        "    df = np.power(1.0 / (ytm + 1.0), days)\n",
        "    return np.sum(payments*df)\n",
        "\n",
        "pv_l = pv_ytm(days, payments, ytm-1e-4)\n",
        "pv_r = pv_ytm(days, payments, ytm+1e-4)\n",
        "\n",
        "DV01 = (0.5*(pv_l - pv_r))\n",
        "print(\"DV01 = \", DV01)"
      ]
    },
    {
      "attachments": {},
      "cell_type": "markdown",
      "metadata": {
        "id": "KxEGmTvCeH4s"
      },
      "source": [
        "# Task 2\n",
        "\n",
        "\n"
      ]
    },
    {
      "cell_type": "markdown",
      "metadata": {
        "id": "GMxX4MBi1Fw8"
      },
      "source": [
        "Interest rate: 0.25% \\\\\n",
        "Maturity: 23.06.2035 \\\\\n",
        "Amount: CHF 174.000 million (0 million own tranche) \\\\\n",
        "Issue price: 98.90% \\\\\n",
        "Yield p.a.: 0.335% \\\\\n",
        "Total bids: CHF 324.000 million \\\\\n",
        "Allotment in last price category: 100% \\\\\n",
        "Offers without price details: CHF 66.600 million \\\\\n",
        "Settlement: 23.03.2022 \\\\\n",
        "ISIN no. (until settlement): CH0557778500 \\\\\n",
        "Fungible with ISIN no.: CH0557778310 \\\\\n",
        "\n"
      ]
    },
    {
      "cell_type": "code",
      "execution_count": null,
      "metadata": {
        "id": "8_8ovejK1Px0"
      },
      "outputs": [],
      "source": [
        "import matplotlib.pyplot as plt\n",
        "long_days = 360*np.ones(13)\n",
        "long_days[0] = 180\n",
        "long_payments = 4*np.ones(13)\n",
        "long_payments[0] = long_days[0] / 360 * 0.25\n",
        "long_payments[-1] += 100\n",
        "\n",
        "f = scipy.interpolate.interp1d(curve_tenors, curve_rates, kind = 'cubic')\n",
        "ytm = np.array([-0.580, -0.600, -0.375, -0.194, -0.120, -0.008, -0.004, 0.165, 0.225, 0.301, 0.355, 0.39426, 0.427615])*1e-2"
      ]
    },
    {
      "cell_type": "code",
      "execution_count": null,
      "metadata": {
        "colab": {
          "base_uri": "https://localhost:8080/"
        },
        "id": "OAWjTYgX4oyZ",
        "outputId": "03311b34-a5cd-4d3b-a237-23b3ce56c17e"
      },
      "outputs": [
        {
          "name": "stdout",
          "output_type": "stream",
          "text": [
            "beta =  -0.6676921697250052\n"
          ]
        }
      ],
      "source": [
        "dv01_trade = 0.5*(pv_ytm(long_days, long_payments, ytm-1e-4) - pv_ytm(long_days, long_payments, ytm+1e-4))\n",
        "dv01_hedge = DV01\n",
        "beta = - dv01_trade / dv01_hedge\n",
        "print(\"beta = \", beta)"
      ]
    },
    {
      "cell_type": "code",
      "execution_count": null,
      "metadata": {
        "id": "QcD7NKWz4_LM"
      },
      "outputs": [],
      "source": [
        "pv = []\n",
        "pv_trade = []\n",
        "for y in ytm:\n",
        "    pv += [pv_ytm(long_days, long_payments, y) + beta * pv_ytm(days, payments, y)]\n",
        "    pv_trade += [pv_ytm(days, payments, y)]"
      ]
    },
    {
      "cell_type": "code",
      "execution_count": null,
      "metadata": {
        "colab": {
          "base_uri": "https://localhost:8080/",
          "height": 282
        },
        "id": "Va8JlDxE6TuH",
        "outputId": "9abd4449-7be7-459f-ede1-d871cd199d46"
      },
      "outputs": [
        {
          "data": {
            "text/plain": [
              "[<matplotlib.lines.Line2D at 0x7ff36f927ad0>]"
            ]
          },
          "execution_count": 97,
          "metadata": {},
          "output_type": "execute_result"
        },
        {
          "data": {
            "image/png": "[encoded data removed]",
            "text/plain": [
              "<Figure size 432x288 with 1 Axes>"
            ]
          },
          "metadata": {
            "needs_background": "light"
          },
          "output_type": "display_data"
        }
      ],
      "source": [
        "plt.plot(ytm, pv)"
      ]
    },
    {
      "cell_type": "code",
      "execution_count": null,
      "metadata": {
        "colab": {
          "base_uri": "https://localhost:8080/",
          "height": 282
        },
        "id": "mRmqlVWm5e2Y",
        "outputId": "58f1d42a-dcff-4ac1-864a-d13d7500a448"
      },
      "outputs": [
        {
          "data": {
            "text/plain": [
              "[<matplotlib.lines.Line2D at 0x7ff36f909f90>]"
            ]
          },
          "execution_count": 98,
          "metadata": {},
          "output_type": "execute_result"
        },
        {
          "data": {
            "image/png": "[encoded data removed]",
            "text/plain": [
              "<Figure size 432x288 with 1 Axes>"
            ]
          },
          "metadata": {
            "needs_background": "light"
          },
          "output_type": "display_data"
        }
      ],
      "source": [
        "plt.plot(ytm, pv_trade)"
      ]
    }
  ],
  "metadata": {
    "colab": {
      "provenance": []
    },
    "kernelspec": {
      "display_name": "Python 3",
      "language": "python",
      "name": "python3"
    },
    "language_info": {
      "codemirror_mode": {
        "name": "ipython",
        "version": 3
      },
      "file_extension": ".py",
      "mimetype": "text/x-python",
      "name": "python",
      "nbconvert_exporter": "python",
      "pygments_lexer": "ipython3",
      "version": "3.7.6"
    }
  },
  "nbformat": 4,
  "nbformat_minor": 0
}
